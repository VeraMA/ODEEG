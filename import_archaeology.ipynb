{
 "cells": [
  {
   "cell_type": "code",
   "execution_count": null,
   "metadata": {},
   "outputs": [],
   "source": [
    "import pandas as pd\n",
    "from django.core.exceptions import ObjectDoesNotExist"
   ]
  },
  {
   "cell_type": "code",
   "execution_count": null,
   "metadata": {},
   "outputs": [],
   "source": [
    "file = \"dobjects\\data\\metadata_ODEEG-archaeology.xlsx\""
   ]
  },
  {
   "cell_type": "code",
   "execution_count": null,
   "metadata": {},
   "outputs": [],
   "source": [
    "df = pd.read_excel(file).fillna('False')"
   ]
  },
  {
   "cell_type": "code",
   "execution_count": null,
   "metadata": {},
   "outputs": [],
   "source": [
    "for i, row in df.iterrows():\n",
    "    if row['Folder name'] != 'False':\n",
    "        try:\n",
    "            col = Collection.objects.get(has_title__endswith=row['Folder name'])\n",
    "        except ObjectDoesNotExist:\n",
    "            col = None\n",
    "        \n",
    "        if col:\n",
    "            temp, _ = DigitalContainer.objects.get_or_create(\n",
    "                belongs_to=col\n",
    "            )\n",
    "        else:\n",
    "            temp = None\n",
    "        \n",
    "        if temp:\n",
    "            if row['Collection reference [institution] [permalink]'] != 'False':\n",
    "                temp.collection_reference = row['Collection reference [institution] [permalink]']\n",
    "            else:\n",
    "                temp.collection_reference = \"\"\n",
    "            \n",
    "            if row['Weight [g] [AAT ID: 300056240]'] != 'False':\n",
    "                temp.weight = row['Weight [g] [AAT ID: 300056240]']\n",
    "            \n",
    "            if row['Height (max.) [mm] [AAT ID: 300055644]'] != 'False':\n",
    "                temp.height = row['Height (max.) [mm] [AAT ID: 300055644]']\n",
    "            \n",
    "            if row['Width (max.) [mm] [AAT ID: 300055647]'] != 'False':\n",
    "                temp.width = row['Width (max.) [mm] [AAT ID: 300055647]']\n",
    "            \n",
    "            if row['Length (max.) [mm] [AAT ID: 300055645]'] != 'False':\n",
    "                temp.length = row['Length (max.) [mm] [AAT ID: 300055645]']\n",
    "            \n",
    "            if row[\"Filling Height [mm] ['filling' AAT ID: 300053092; 'height': 300055644]\"] != 'False':\n",
    "                temp.filling_height = row[\"Filling Height [mm] ['filling' AAT ID: 300053092; 'height': 300055644]\"]\n",
    "            \n",
    "            if row[\"Filling Volume [cm3] ['filling' AAT ID: 300053092; 'volume': 300055649]\"] != 'False':\n",
    "                temp.filling_volume = row[\"Filling Volume [cm3] ['filling' AAT ID: 300053092; 'volume': 300055649]\"]\n",
    "            \n",
    "            if row[\"Material Volume [cm3] ['material': AAT ID: 300010358; 'volume': 300055649]\"] != 'False':\n",
    "                temp.material_volume = row[\"Material Volume [cm3] ['material': AAT ID: 300010358; 'volume': 300055649]\"]\n",
    "            \n",
    "            if row[\"Material Density [g/cm3] ['material': AAT ID: 300010358; 'density': 300056237]\"] != 'False':\n",
    "                temp.material_density = row[\"Material Density [g/cm3] ['material': AAT ID: 300010358; 'density': 300056237]\"]\n",
    "            \n",
    "            if row[\"Outer Volume [cm3] ['volume' AAT ID: 300055649]\"] != 'False':\n",
    "                temp.outer_volume = row[\"Outer Volume [cm3] ['volume' AAT ID: 300055649]\"]\n",
    "            \n",
    "            \n",
    "            temp.save()"
   ]
  },
  {
   "cell_type": "code",
   "execution_count": null,
   "metadata": {},
   "outputs": [],
   "source": [
    "# DigitalContainer.objects.all()[0].delete()"
   ]
  },
  {
   "cell_type": "code",
   "execution_count": null,
   "metadata": {},
   "outputs": [],
   "source": [
    "# Collection.objects.get(has_title__endswith='KHM-ANSA-IV1')"
   ]
  },
  {
   "cell_type": "code",
   "execution_count": null,
   "metadata": {},
   "outputs": [],
   "source": []
  }
 ],
 "metadata": {
  "kernelspec": {
   "display_name": "Django Shell-Plus",
   "language": "python",
   "name": "django_extensions"
  },
  "language_info": {
   "codemirror_mode": {
    "name": "ipython",
    "version": 3
   },
   "file_extension": ".py",
   "mimetype": "text/x-python",
   "name": "python",
   "nbconvert_exporter": "python",
   "pygments_lexer": "ipython3",
   "version": "3.6.2"
  }
 },
 "nbformat": 4,
 "nbformat_minor": 2
}
