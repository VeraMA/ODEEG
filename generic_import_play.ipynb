{
 "cells": [
  {
   "cell_type": "code",
   "execution_count": null,
   "metadata": {},
   "outputs": [],
   "source": [
    "import os\n",
    "import glob\n",
    "\n",
    "import pandas as pd\n",
    "\n",
    "from django.db.utils import DataError\n",
    "from django.core.exceptions import FieldDoesNotExist"
   ]
  },
  {
   "cell_type": "code",
   "execution_count": null,
   "metadata": {},
   "outputs": [],
   "source": [
    "data_file_name = \"resource_ODEEG-archaeology\""
   ]
  },
  {
   "cell_type": "code",
   "execution_count": null,
   "metadata": {},
   "outputs": [],
   "source": [
    "dm_file = os.path.join(settings.BASE_DIR, 'odeeg','data', 'vases.xlsx')\n",
    "data_file = os.path.join(settings.BASE_DIR, 'odeeg','data', 'dumps', '{}.xlsx'.format(data_file_name))"
   ]
  },
  {
   "cell_type": "code",
   "execution_count": null,
   "metadata": {},
   "outputs": [],
   "source": [
    "df_dm = pd.read_excel(dm_file)\n",
    "df_data = pd.read_excel(data_file)"
   ]
  },
  {
   "cell_type": "code",
   "execution_count": null,
   "metadata": {},
   "outputs": [],
   "source": [
    "df_data.keys()"
   ]
  },
  {
   "cell_type": "code",
   "execution_count": null,
   "metadata": {},
   "outputs": [],
   "source": [
    "current_class = Object\n",
    "df_keys = df_data.keys()\n",
    "nr_cols = len(df_keys)\n",
    "for i, row in df_data.iterrows():\n",
    "    temp_item = None\n",
    "    col_counter = 0\n",
    "    no_match_yet = True\n",
    "    while col_counter < nr_cols and no_match_yet:\n",
    "        cur_attr = df_keys[col_counter]\n",
    "        try:\n",
    "            cur_attr_type = current_class._meta.get_field(df_keys[col_counter]).get_internal_type()\n",
    "        except FieldDoesNotExist:\n",
    "            cur_attr_type = None\n",
    "        col_counter += 1\n",
    "        if cur_attr_type is not None and \"{}\".format(cur_attr_type) == \"CharField\" and isinstance(row[cur_attr], str):\n",
    "            temp_item, _ = current_class.objects.get_or_create(\n",
    "                legacy_id=row[cur_attr]\n",
    "            )\n",
    "            no_match_yet = False\n",
    "    if temp_item:\n",
    "        col_counter = 0\n",
    "        while col_counter < nr_cols:\n",
    "            cur_attr = df_keys[col_counter]\n",
    "            try:\n",
    "                cur_attr_type = current_class._meta.get_field(df_keys[col_counter]).get_internal_type()\n",
    "            except FieldDoesNotExist:\n",
    "                cur_attr_type = None\n",
    "            if cur_attr_type is not None:\n",
    "                print(cur_attr_type)\n",
    "                if \"{}\".format(cur_attr_type) == \"CharField\" and isinstance(row[cur_attr], str):\n",
    "                    setattr(temp_item, cur_attr, row[cur_attr][:249])\n",
    "                elif \"{}\".format(cur_attr_type) == \"ForeignKey\" and isinstance(row[cur_attr], str):\n",
    "                    fk  = current_class._meta.get_field(df_keys[col_counter])\n",
    "                    temp_rel_obj, _ = fk.related_model.objects.get_or_create(legacy_id=row[cur_attr])\n",
    "                    setattr(temp_item, cur_attr, temp_rel_obj)\n",
    "                elif \"{}\".format(cur_attr_type) == \"ManyToManyField\" and isinstance(row[cur_attr], str):\n",
    "                    fk = current_class._meta.get_field(df_keys[col_counter])\n",
    "                    for x in row[cur_attr].split(\";\"):\n",
    "                        temp_rel_obj, _ = fk.related_model.objects.get_or_create(legacy_id=x.strip())\n",
    "                        rel_obj.append(temp_rel_obj)\n",
    "                        temp_item.save()\n",
    "                elif \"{}\".format(cur_attr_type) == \"TextField\" and isinstance(row[cur_attr], str):\n",
    "                    setattr(temp_item, cur_attr, row[cur_attr])\n",
    "                elif \"{}\".format(cur_attr_type) == \"DecimalField\":\n",
    "                    try:\n",
    "                        value = float(row[cur_attr])\n",
    "                    except ValueError:\n",
    "                        print(\"{} can't be parsed as float\".format(row[cur_attr]))\n",
    "                        value = None\n",
    "                    if value is not None:\n",
    "                        setattr(temp_item, cur_attr, row[cur_attr])\n",
    "            temp_item.save()\n",
    "            col_counter += 1\n",
    "        "
   ]
  },
  {
   "cell_type": "code",
   "execution_count": null,
   "metadata": {},
   "outputs": [],
   "source": [
    "fk.related_model"
   ]
  },
  {
   "cell_type": "code",
   "execution_count": null,
   "metadata": {},
   "outputs": [],
   "source": [
    "Shape.objects.all().delete()"
   ]
  },
  {
   "cell_type": "code",
   "execution_count": null,
   "metadata": {},
   "outputs": [],
   "source": [
    "field = "
   ]
  },
  {
   "cell_type": "code",
   "execution_count": null,
   "metadata": {},
   "outputs": [],
   "source": []
  }
 ],
 "metadata": {
  "kernelspec": {
   "display_name": "Django Shell-Plus",
   "language": "python",
   "name": "django_extensions"
  },
  "language_info": {
   "codemirror_mode": {
    "name": "ipython",
    "version": 3
   },
   "file_extension": ".py",
   "mimetype": "text/x-python",
   "name": "python",
   "nbconvert_exporter": "python",
   "pygments_lexer": "ipython3",
   "version": "3.7.1"
  }
 },
 "nbformat": 4,
 "nbformat_minor": 2
}
